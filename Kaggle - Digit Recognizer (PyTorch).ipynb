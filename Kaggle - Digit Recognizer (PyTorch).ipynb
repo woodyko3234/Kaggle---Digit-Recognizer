{
 "cells": [
  {
   "cell_type": "code",
   "execution_count": 10,
   "metadata": {},
   "outputs": [
    {
     "name": "stderr",
     "output_type": "stream",
     "text": [
      "/Users/KunWuYao/anaconda/lib/python3.5/site-packages/h5py/__init__.py:34: FutureWarning: Conversion of the second argument of issubdtype from `float` to `np.floating` is deprecated. In future, it will be treated as `np.float64 == np.dtype(float).type`.\n",
      "  from ._conv import register_converters as _register_converters\n",
      "Using TensorFlow backend.\n"
     ]
    }
   ],
   "source": [
    "import torch\n",
    "import torch.nn as nn\n",
    "import torchvision.transforms as transforms\n",
    "import torchvision.datasets as datasets\n",
    "from torch.autograd import Variable\n",
    "import matplotlib.pyplot as plt\n",
    "\n",
    "from keras.utils import np_utils #funny"
   ]
  },
  {
   "cell_type": "code",
   "execution_count": 2,
   "metadata": {
    "collapsed": true
   },
   "outputs": [],
   "source": [
    "#import other necessary modules\n",
    "import pandas as pd\n",
    "import numpy as np\n",
    "import matplotlib.pyplot as plt\n",
    "from sklearn.model_selection import train_test_split\n",
    "\n",
    "%matplotlib inline"
   ]
  },
  {
   "cell_type": "code",
   "execution_count": 3,
   "metadata": {
    "collapsed": true
   },
   "outputs": [],
   "source": [
    "#load datasets\n",
    "#read training and test sets\n",
    "data = np.loadtxt('data/train.csv', delimiter = ',', skiprows = 1)\n",
    "test = np.loadtxt('data/test.csv', delimiter = ',', skiprows = 1)"
   ]
  },
  {
   "cell_type": "code",
   "execution_count": 79,
   "metadata": {
    "collapsed": true
   },
   "outputs": [],
   "source": [
    "#set features and labels (arrays)\n",
    "#There's no need to set default filter layer in pytorch\n",
    "X_train = data[:, 1:].reshape((-1,1,28,28)).astype(float) #m, c, w, h??????\n",
    "Y_train = data[:, 0].reshape((-1,1))\n",
    "X_test = test.reshape((-1,1,28,28)).astype(float)"
   ]
  },
  {
   "cell_type": "code",
   "execution_count": 80,
   "metadata": {
    "collapsed": true
   },
   "outputs": [],
   "source": [
    "#train test split\n",
    "X_train, X_dev, Y_train, Y_dev = train_test_split(X_train,\n",
    "                                                   Y_train,\n",
    "                                                   test_size = 0.025,\n",
    "                                                   random_state = 1024,\n",
    "                                                   stratify = Y_train)"
   ]
  },
  {
   "cell_type": "code",
   "execution_count": 86,
   "metadata": {
    "collapsed": true
   },
   "outputs": [],
   "source": [
    "#Normalization\n",
    "X_train /= 255.\n",
    "X_dev /= 255.\n",
    "X_test /= 255.\n",
    "Y_train = np_utils.to_categorical(Y_train, 10)\n",
    "Y_dev = np_utils.to_categorical(Y_dev, 10)"
   ]
  },
  {
   "cell_type": "code",
   "execution_count": 82,
   "metadata": {
    "collapsed": true
   },
   "outputs": [],
   "source": [
    "class CNNModel(nn.Module):\n",
    "    def __init__(self):\n",
    "        super(CNNModel, self).__init__()\n",
    "        # conv 1                      # (1,28,28)\n",
    "        self.conv1 = nn.Conv2d(in_channels=1, out_channels=6, kernel_size=5, stride=1, padding=2)\n",
    "        self.relu1 = nn.ReLU()        # (6,28,28)  28+4-5+1\n",
    "        # max 1\n",
    "        self.maxpool1 = nn.MaxPool2d(kernel_size=2)\n",
    "                                      # (6,14,14)\n",
    "        # conv 2\n",
    "        self.conv2 = nn.Conv2d(in_channels=6, out_channels=16, kernel_size=5, stride=1, padding=0)\n",
    "        self.relu2 = nn.ReLU()        # (16,10,10) \n",
    "        # max 2\n",
    "        self.maxpool2 = nn.MaxPool2d(kernel_size=2)\n",
    "                                      # (16, 5, 5)\n",
    "        #conv 3\n",
    "        self.conv3 = nn.Conv2d(in_channels=16, out_channels=64, kernel_size=5, stride=1, padding=0)\n",
    "        self.relu3 = nn.ReLU()        # (64,1,1) \n",
    "        # conv 4\n",
    "        self.conv4 = nn.Conv2d(in_channels=64, out_channels = 120, kernel_size = 1, stride = 1, padding = 0)\n",
    "        self.relu4 = nn.ReLU()\n",
    "\n",
    "        # fully connected layer\n",
    "        self.fc1 = nn.Linear(120, 64)\n",
    "        self.relu5 = nn.ReLU()\n",
    "        self.fc2 = nn.Linear(64, 10)\n",
    "        #self.sfx = nn.Softmax()\n",
    "\n",
    "    def forward(self, x):\n",
    "        # conv 1\n",
    "        x = self.conv1(x)\n",
    "        x = self.relu1(x)\n",
    "        x = self.maxpool1(x)\n",
    "        # conv 2\n",
    "        x = self.conv2(x)\n",
    "        x = self.relu2(x)\n",
    "        x = self.maxpool2(x)\n",
    "        # conv 3\n",
    "        x = self.conv3(x)\n",
    "        x = self.relu3(x)\n",
    "        # conv 4\n",
    "        x = self.conv4(x)\n",
    "        x = self.relu4(x)\n",
    "\n",
    "        # flatten\n",
    "        x = x.view(x.size(0), -1)\n",
    "        x = self.fc1(x)\n",
    "        out = self.fc2(x)\n",
    "        #out = self.sfx(out)\n",
    "\n",
    "        return out"
   ]
  },
  {
   "cell_type": "code",
   "execution_count": 83,
   "metadata": {
    "collapsed": true
   },
   "outputs": [],
   "source": [
    "def random_mini_batches(X, Y, mini_batch_size = 64, seed = 0):\n",
    "    \"\"\"\n",
    "    Creates a list of random minibatches from (X, Y)\n",
    "    \n",
    "    Arguments:\n",
    "    X -- input data, of shape (input size, number of examples) (m, Hi, Wi, Ci)\n",
    "    Y -- true \"label\" vector (containing 0 if cat, 1 if non-cat), of shape (1, number of examples) (m, n_y)\n",
    "    mini_batch_size - size of the mini-batches, integer\n",
    "    seed -- this is only for the purpose of grading, so that you're \"random minibatches are the same as ours.\n",
    "    \n",
    "    Returns:\n",
    "    mini_batches -- list of synchronous (mini_batch_X, mini_batch_Y)\n",
    "    \"\"\"\n",
    "    \n",
    "    m = X.shape[0]                  # number of training examples\n",
    "    mini_batches = []\n",
    "    np.random.seed(seed)\n",
    "    \n",
    "    # Step 1: Shuffle (X, Y)\n",
    "    permutation = list(np.random.permutation(m))\n",
    "    shuffled_X = X[permutation,:,:,:]\n",
    "    shuffled_Y = Y[permutation,:]\n",
    "\n",
    "    # Step 2: Partition (shuffled_X, shuffled_Y). Minus the end case.\n",
    "    num_complete_minibatches = int(m/mini_batch_size) # number of mini batches of size mini_batch_size in your partitionning\n",
    "    for k in range(0, num_complete_minibatches):\n",
    "        mini_batch_X = shuffled_X[k * mini_batch_size : k * mini_batch_size + mini_batch_size,:,:,:]\n",
    "        mini_batch_Y = shuffled_Y[k * mini_batch_size : k * mini_batch_size + mini_batch_size,:]\n",
    "        mini_batch = (mini_batch_X, mini_batch_Y)\n",
    "        mini_batches.append(mini_batch)\n",
    "    \n",
    "    # Handling the end case (last mini-batch < mini_batch_size)\n",
    "    if m % mini_batch_size != 0:\n",
    "        mini_batch_X = shuffled_X[num_complete_minibatches * mini_batch_size : m,:,:,:]\n",
    "        mini_batch_Y = shuffled_Y[num_complete_minibatches * mini_batch_size : m,:]\n",
    "        mini_batch = (mini_batch_X, mini_batch_Y)\n",
    "        mini_batches.append(mini_batch)\n",
    "    \n",
    "    return mini_batches"
   ]
  },
  {
   "cell_type": "code",
   "execution_count": 87,
   "metadata": {
    "collapsed": true
   },
   "outputs": [],
   "source": [
    "model = CNNModel()\n",
    "loss_func = nn.MSELoss()\n",
    "learning_rate = 0.01\n",
    "optimizer = torch.optim.Adam(model.parameters(), lr=learning_rate)"
   ]
  },
  {
   "cell_type": "code",
   "execution_count": 89,
   "metadata": {
    "collapsed": true
   },
   "outputs": [],
   "source": [
    "iters = 0\n",
    "num_epochs = 1\n",
    "for epoch in range(num_epochs):\n",
    "    seeds = 1\n",
    "    mini_batches = random_mini_batches(X_train, Y_train, mini_batch_size = 64, seed = seeds)\n",
    "    for minibatch in mini_batches:\n",
    "        (minibatch_X, minibatch_Y) = minibatch\n",
    "        #print(minibatch_X[0].shape)\n",
    "        # convert np to tensor\n",
    "        x = torch.FloatTensor(minibatch_X)\n",
    "        y = torch.FloatTensor(minibatch_Y)\n",
    "        # convert tensor to Variable\n",
    "        images = Variable(x)\n",
    "        labels = Variable(y)\n",
    "\n",
    "        # clear gradients w.r.t parameters\n",
    "        optimizer.zero_grad()\n",
    "\n",
    "        # forward pass\n",
    "        outputs = model(images)\n",
    "        \n",
    "        #print(outputs.data.numpy()[0])\n",
    "        #print(labels.data.numpy()[0])\n",
    "\n",
    "        # calculate loss\n",
    "        loss = loss_func(outputs, labels)\n",
    "\n",
    "        # get gradient w.r.t parameters\n",
    "        loss.backward()\n",
    "\n",
    "        # update parameters\n",
    "        optimizer.step()\n",
    "        \n"
   ]
  }
 ],
 "metadata": {
  "kernelspec": {
   "display_name": "Python [default]",
   "language": "python",
   "name": "python3"
  },
  "language_info": {
   "codemirror_mode": {
    "name": "ipython",
    "version": 3
   },
   "file_extension": ".py",
   "mimetype": "text/x-python",
   "name": "python",
   "nbconvert_exporter": "python",
   "pygments_lexer": "ipython3",
   "version": "3.5.4"
  }
 },
 "nbformat": 4,
 "nbformat_minor": 2
}
