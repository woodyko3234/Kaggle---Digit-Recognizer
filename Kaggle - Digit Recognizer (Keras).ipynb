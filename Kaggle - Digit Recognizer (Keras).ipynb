{
 "cells": [
  {
   "cell_type": "markdown",
   "metadata": {},
   "source": [
    "After implementing deep learning algorithm (only fully-connected layers introduced) and data augmentation, now let's try whether CNN could give us better output or not.\n",
    "\n",
    "LeNet-5 Structure\n",
    "\n",
    "    input: 28 * 28 images\n",
    "    zeropadding: (2, 2) => 32 * 32\n",
    "    conv_1: 5 * 5 and 6 filters => 28 * 28 * 6\n",
    "    act_1: activation\n",
    "    avgpool_2: 2 * 2 and non-overlapping => 14 * 14 * 6\n",
    "    conv_3: 5 * 5 and 16 filters => 10 * 10 * 16\n",
    "    act_2: activation\n",
    "    avgpool_4: 2 * 2 and non-overlapping => 5 * 5 * 16\n",
    "    conv_5: 5 * 5 and 120 filters => fully-connected 120 * 1\n",
    "    act_3: activation\n",
    "    fc_6: fully-connected 84 * 1\n",
    "    act_4: activation\n",
    "    output_layer(act_4): 10 * 1\n",
    "\n",
    "Note: not implementing bias in conv"
   ]
  },
  {
   "cell_type": "code",
   "execution_count": 1,
   "metadata": {},
   "outputs": [
    {
     "name": "stderr",
     "output_type": "stream",
     "text": [
      "Using TensorFlow backend.\n"
     ]
    }
   ],
   "source": [
    "import warnings\n",
    "warnings.filterwarnings('ignore')\n",
    "\n",
    "#import necessary modules\n",
    "import keras\n",
    "from keras import backend as K\n",
    "from keras.layers import Conv2D, MaxPooling2D, ZeroPadding2D\n",
    "from keras.layers import Dropout, Dense, Activation, Flatten, BatchNormalization\n",
    "from keras.models import Sequential\n",
    "\n",
    "#can apply to_categorical as pd.get_dummies\n",
    "from keras.utils import np_utils"
   ]
  },
  {
   "cell_type": "code",
   "execution_count": 2,
   "metadata": {
    "collapsed": true
   },
   "outputs": [],
   "source": [
    "#import other necessary modules\n",
    "import pandas as pd\n",
    "import numpy as np\n",
    "import matplotlib.pyplot as plt\n",
    "from sklearn.model_selection import train_test_split\n",
    "\n",
    "%matplotlib inline"
   ]
  },
  {
   "cell_type": "code",
   "execution_count": 3,
   "metadata": {},
   "outputs": [],
   "source": [
    "#load datasets\n",
    "#read training and test sets\n",
    "data = np.loadtxt('data/train.csv', delimiter = ',', skiprows = 1)\n",
    "test = np.loadtxt('data/test.csv', delimiter = ',', skiprows = 1)"
   ]
  },
  {
   "cell_type": "code",
   "execution_count": 4,
   "metadata": {},
   "outputs": [
    {
     "data": {
      "text/plain": [
       "((42000, 785), (28000, 784))"
      ]
     },
     "execution_count": 4,
     "metadata": {},
     "output_type": "execute_result"
    }
   ],
   "source": [
    "data.shape, test.shape"
   ]
  },
  {
   "cell_type": "code",
   "execution_count": 5,
   "metadata": {
    "collapsed": true
   },
   "outputs": [],
   "source": [
    "#set features and labels (arrays)\n",
    "X_train = data[:, 1:].reshape((-1,28,28,1)).astype(float)\n",
    "Y_train = data[:, 0].reshape((-1,1))\n",
    "X_test = test.reshape((-1,28,28,1)).astype(float)"
   ]
  },
  {
   "cell_type": "code",
   "execution_count": 6,
   "metadata": {},
   "outputs": [
    {
     "data": {
      "text/plain": [
       "(<matplotlib.image.AxesImage at 0x13c3c6e48>, array([1.]))"
      ]
     },
     "execution_count": 6,
     "metadata": {},
     "output_type": "execute_result"
    },
    {
     "data": {
      "image/png": "[encoded data removed]",
      "text/plain": [
       "<matplotlib.figure.Figure at 0x14b7d1160>"
      ]
     },
     "metadata": {},
     "output_type": "display_data"
    }
   ],
   "source": [
    "#check data\n",
    "plt.imshow(X_train[1000].reshape((28,28))), Y_train[1000]"
   ]
  },
  {
   "cell_type": "code",
   "execution_count": 7,
   "metadata": {
    "collapsed": true
   },
   "outputs": [],
   "source": [
    "#train test split\n",
    "X_train, X_dev, Y_train, Y_dev = train_test_split(X_train,\n",
    "                                                   Y_train,\n",
    "                                                   test_size = 0.025,\n",
    "                                                   random_state = 1024,\n",
    "                                                   stratify = Y_train)"
   ]
  },
  {
   "cell_type": "code",
   "execution_count": 8,
   "metadata": {},
   "outputs": [
    {
     "data": {
      "text/plain": [
       "((40950, 1),\n",
       " (1050, 1),\n",
       " (40950, 28, 28, 1),\n",
       " (1050, 28, 28, 1),\n",
       " (28000, 28, 28, 1))"
      ]
     },
     "execution_count": 8,
     "metadata": {},
     "output_type": "execute_result"
    }
   ],
   "source": [
    "Y_train.shape, Y_dev.shape, X_train.shape, X_dev.shape, X_test.shape"
   ]
  },
  {
   "cell_type": "code",
   "execution_count": 9,
   "metadata": {},
   "outputs": [],
   "source": [
    "#Normalization\n",
    "X_train /= 255.\n",
    "X_dev /= 255.\n",
    "X_test /= 255.\n",
    "Y_train = np_utils.to_categorical(Y_train, 10)\n",
    "Y_dev = np_utils.to_categorical(Y_dev, 10)"
   ]
  },
  {
   "cell_type": "code",
   "execution_count": 10,
   "metadata": {},
   "outputs": [
    {
     "data": {
      "text/plain": [
       "(<matplotlib.image.AxesImage at 0x13b5da710>,\n",
       " array([0., 0., 0., 0., 0., 0., 0., 0., 0., 1.]))"
      ]
     },
     "execution_count": 10,
     "metadata": {},
     "output_type": "execute_result"
    },
    {
     "data": {
      "image/png": "[encoded data removed]",
      "text/plain": [
       "<matplotlib.figure.Figure at 0x13b7c8550>"
      ]
     },
     "metadata": {},
     "output_type": "display_data"
    }
   ],
   "source": [
    "plt.imshow(X_train[10].reshape((28,28))), Y_train[10]"
   ]
  },
  {
   "cell_type": "code",
   "execution_count": 11,
   "metadata": {},
   "outputs": [
    {
     "data": {
      "text/plain": [
       "((40950, 10), (40950, 28, 28, 1))"
      ]
     },
     "execution_count": 11,
     "metadata": {},
     "output_type": "execute_result"
    }
   ],
   "source": [
    "Y_train.shape, X_train.shape"
   ]
  },
  {
   "cell_type": "code",
   "execution_count": 12,
   "metadata": {
    "collapsed": true
   },
   "outputs": [],
   "source": [
    "def zero_pad(X, pad):\n",
    "    \"\"\"\n",
    "    Pad with zeros all images of the dataset X. The padding is applied to the height and width of an image, \n",
    "    as illustrated in Figure 1.\n",
    "    \n",
    "    Argument:\n",
    "    X -- python numpy array of shape (m, n_H, n_W, n_C) representing a batch of m images\n",
    "    pad -- integer, amount of padding around each image on vertical and horizontal dimensions\n",
    "    \n",
    "    Returns:\n",
    "    X_pad -- padded image of shape (m, n_H + 2*pad, n_W + 2*pad, n_C)\n",
    "    \"\"\"\n",
    "    \n",
    "    X_pad = np.pad(X, ((0,0), (pad,pad), (pad,pad), (0,0)), 'constant', constant_values = (0,0))\n",
    "    \n",
    "    return X_pad"
   ]
  },
  {
   "cell_type": "code",
   "execution_count": 13,
   "metadata": {
    "collapsed": true
   },
   "outputs": [],
   "source": [
    "X_train = zero_pad(X_train, 2)\n",
    "X_dev = zero_pad(X_dev, 2)\n",
    "X_test = zero_pad(X_test, 2)"
   ]
  },
  {
   "cell_type": "code",
   "execution_count": 14,
   "metadata": {},
   "outputs": [
    {
     "data": {
      "text/plain": [
       "(<matplotlib.image.AxesImage at 0x13b382908>,\n",
       " array([0., 0., 0., 0., 0., 0., 0., 0., 0., 1.]))"
      ]
     },
     "execution_count": 14,
     "metadata": {},
     "output_type": "execute_result"
    },
    {
     "data": {
      "image/png": "[encoded data removed]",
      "text/plain": [
       "<matplotlib.figure.Figure at 0x13b5ba630>"
      ]
     },
     "metadata": {},
     "output_type": "display_data"
    }
   ],
   "source": [
    "plt.imshow(X_train[10].reshape((32,32))), Y_train[10]"
   ]
  },
  {
   "cell_type": "code",
   "execution_count": 15,
   "metadata": {},
   "outputs": [
    {
     "data": {
      "text/plain": [
       "<matplotlib.image.AxesImage at 0x13b5e6c18>"
      ]
     },
     "execution_count": 15,
     "metadata": {},
     "output_type": "execute_result"
    },
    {
     "data": {
      "image/png": "[encoded data removed]",
      "text/plain": [
       "<matplotlib.figure.Figure at 0x13b39ada0>"
      ]
     },
     "metadata": {},
     "output_type": "display_data"
    }
   ],
   "source": [
    "plt.imshow(X_test[10].reshape((32,32)))"
   ]
  },
  {
   "cell_type": "code",
   "execution_count": 16,
   "metadata": {},
   "outputs": [
    {
     "data": {
      "text/plain": [
       "((40950, 10),\n",
       " (1050, 10),\n",
       " (40950, 32, 32, 1),\n",
       " (1050, 32, 32, 1),\n",
       " (28000, 32, 32, 1))"
      ]
     },
     "execution_count": 16,
     "metadata": {},
     "output_type": "execute_result"
    }
   ],
   "source": [
    "Y_train.shape, Y_dev.shape, X_train.shape, X_dev.shape, X_test.shape"
   ]
  },
  {
   "cell_type": "code",
   "execution_count": 17,
   "metadata": {},
   "outputs": [],
   "source": [
    "def cnn_model_builder(input_shapes):\n",
    "    #create model\n",
    "    model = Sequential()\n",
    "    #layer1-1: ZeroPadding2D\n",
    "    #model.add(ZeroPadding2D(padding = (2,2), input_shape=input_shape))\n",
    "    #add before put input into the model\n",
    "    #layer1-2: first Conv2D with relu\n",
    "    model.add(Conv2D(6, kernel_size = (5,5), activation='relu', input_shape = input_shapes))\n",
    "    #apply BatchNormalization before applying MaxPooling\n",
    "    model.add(BatchNormalization())\n",
    "    \n",
    "    #layer2: MaxPooling2D\n",
    "    model.add(MaxPooling2D(pool_size = (2,2), strides=(2,2)))\n",
    "    \n",
    "    #layer3-1: second Conv2D with relu\n",
    "    model.add(Conv2D(16, kernel_size = (5,5), activation='relu'))\n",
    "    #apply BatchNormalization before applying second Conv2D\n",
    "    model.add(BatchNormalization())\n",
    "    \n",
    "    #layer4: MaxPooling2D\n",
    "    model.add(MaxPooling2D(pool_size = (2,2), strides=(2,2)))\n",
    "    \n",
    "    #layer5: third Conv2D with relu\n",
    "    model.add(Conv2D(120, kernel_size = (5,5), activation = 'relu'))\n",
    "    #apply BatchNormalization before applying Dense layer\n",
    "    model.add(BatchNormalization())\n",
    "    #flatten layer\n",
    "    model.add(Flatten())\n",
    "    #layer6: fully-connected\n",
    "    model.add(Dense(84, activation = 'relu'))\n",
    "    #BatchNorm\n",
    "    model.add(BatchNormalization())\n",
    "    #output_layer\n",
    "    model.add(Dense(10, activation = 'softmax'))\n",
    "    \n",
    "    return model"
   ]
  },
  {
   "cell_type": "code",
   "execution_count": 19,
   "metadata": {},
   "outputs": [],
   "source": [
    "input_shapes = (32,32,1)\n",
    "cnn_model = cnn_model_builder(input_shapes)"
   ]
  },
  {
   "cell_type": "code",
   "execution_count": 20,
   "metadata": {
    "collapsed": true
   },
   "outputs": [],
   "source": [
    "cnn_model.compile(loss=\"categorical_crossentropy\",\n",
    "              optimizer= keras.optimizers.Adam(lr=1e-4),\n",
    "              metrics=['accuracy'])\n",
    "\n",
    "#weird, why choose adam as optimizer would return a pretty bad dev accuracy?"
   ]
  },
  {
   "cell_type": "code",
   "execution_count": 21,
   "metadata": {},
   "outputs": [],
   "source": [
    "#learning rate decay setting\n",
    "from keras.callbacks import LearningRateScheduler\n",
    "annealer = LearningRateScheduler(lambda x: 1e-3 * 0.9 ** x)"
   ]
  },
  {
   "cell_type": "code",
   "execution_count": 22,
   "metadata": {},
   "outputs": [
    {
     "name": "stdout",
     "output_type": "stream",
     "text": [
      "Epoch 1/5\n",
      "40950/40950 [==============================] - 37s 912us/step - loss: 0.1633 - acc: 0.9505\n",
      "Epoch 2/5\n",
      "40950/40950 [==============================] - 34s 834us/step - loss: 0.0565 - acc: 0.9821\n",
      "Epoch 3/5\n",
      "40950/40950 [==============================] - 32s 790us/step - loss: 0.0385 - acc: 0.9877\n",
      "Epoch 4/5\n",
      "40950/40950 [==============================] - 33s 816us/step - loss: 0.0285 - acc: 0.9905\n",
      "Epoch 5/5\n",
      "40950/40950 [==============================] - 36s 872us/step - loss: 0.0228 - acc: 0.9926\n"
     ]
    },
    {
     "data": {
      "text/plain": [
       "<keras.callbacks.History at 0x11fb94f98>"
      ]
     },
     "execution_count": 22,
     "metadata": {},
     "output_type": "execute_result"
    }
   ],
   "source": [
    "cnn_model.fit(X_train, Y_train,\n",
    "              batch_size=64,\n",
    "              epochs=5,\n",
    "              callbacks=[annealer])"
   ]
  },
  {
   "cell_type": "code",
   "execution_count": 23,
   "metadata": {},
   "outputs": [
    {
     "name": "stdout",
     "output_type": "stream",
     "text": [
      "_________________________________________________________________\n",
      "Layer (type)                 Output Shape              Param #   \n",
      "=================================================================\n",
      "conv2d_4 (Conv2D)            (None, 28, 28, 6)         156       \n",
      "_________________________________________________________________\n",
      "batch_normalization_5 (Batch (None, 28, 28, 6)         24        \n",
      "_________________________________________________________________\n",
      "max_pooling2d_3 (MaxPooling2 (None, 14, 14, 6)         0         \n",
      "_________________________________________________________________\n",
      "conv2d_5 (Conv2D)            (None, 10, 10, 16)        2416      \n",
      "_________________________________________________________________\n",
      "batch_normalization_6 (Batch (None, 10, 10, 16)        64        \n",
      "_________________________________________________________________\n",
      "max_pooling2d_4 (MaxPooling2 (None, 5, 5, 16)          0         \n",
      "_________________________________________________________________\n",
      "conv2d_6 (Conv2D)            (None, 1, 1, 120)         48120     \n",
      "_________________________________________________________________\n",
      "batch_normalization_7 (Batch (None, 1, 1, 120)         480       \n",
      "_________________________________________________________________\n",
      "flatten_2 (Flatten)          (None, 120)               0         \n",
      "_________________________________________________________________\n",
      "dense_3 (Dense)              (None, 84)                10164     \n",
      "_________________________________________________________________\n",
      "batch_normalization_8 (Batch (None, 84)                336       \n",
      "_________________________________________________________________\n",
      "dense_4 (Dense)              (None, 10)                850       \n",
      "=================================================================\n",
      "Total params: 62,610\n",
      "Trainable params: 62,158\n",
      "Non-trainable params: 452\n",
      "_________________________________________________________________\n",
      "None\n"
     ]
    }
   ],
   "source": [
    "print(cnn_model.summary())"
   ]
  },
  {
   "cell_type": "code",
   "execution_count": 24,
   "metadata": {},
   "outputs": [
    {
     "name": "stdout",
     "output_type": "stream",
     "text": [
      "1050/1050 [==============================] - 0s 433us/step\n",
      "\n",
      "Loss = 0.04209495647322564\n",
      "Test Accuracy = 0.9895238088426136\n"
     ]
    }
   ],
   "source": [
    "### START CODE HERE ### (1 line)\n",
    "preds = cnn_model.evaluate(x = X_dev, y = Y_dev)\n",
    "### END CODE HERE ###\n",
    "print()\n",
    "print (\"Loss = \" + str(preds[0]))\n",
    "print (\"Test Accuracy = \" + str(preds[1]))"
   ]
  },
  {
   "cell_type": "code",
   "execution_count": 25,
   "metadata": {},
   "outputs": [
    {
     "data": {
      "text/plain": [
       "(array([0., 0., 0., 0., 1., 0., 0., 0., 0., 0.]), 4)"
      ]
     },
     "execution_count": 25,
     "metadata": {},
     "output_type": "execute_result"
    }
   ],
   "source": [
    "Y_dev[501], cnn_model.predict(X_dev)[501].argmax()"
   ]
  },
  {
   "cell_type": "code",
   "execution_count": 26,
   "metadata": {},
   "outputs": [],
   "source": [
    "Y_test = np.zeros((X_test.shape[0], 10))\n",
    "Y_test = cnn_model.predict(X_test)"
   ]
  },
  {
   "cell_type": "code",
   "execution_count": 27,
   "metadata": {},
   "outputs": [],
   "source": [
    "pred = np.argmax(Y_test, axis = 1)"
   ]
  },
  {
   "cell_type": "code",
   "execution_count": 35,
   "metadata": {},
   "outputs": [
    {
     "data": {
      "text/plain": [
       "(7, 7)"
      ]
     },
     "execution_count": 35,
     "metadata": {},
     "output_type": "execute_result"
    }
   ],
   "source": [
    "pred[1001], Y_test[1001].argmax()"
   ]
  },
  {
   "cell_type": "code",
   "execution_count": 36,
   "metadata": {},
   "outputs": [
    {
     "data": {
      "text/plain": [
       "<matplotlib.image.AxesImage at 0x11dfc9da0>"
      ]
     },
     "execution_count": 36,
     "metadata": {},
     "output_type": "execute_result"
    },
    {
     "data": {
      "image/png": "[encoded data removed]",
      "text/plain": [
       "<matplotlib.figure.Figure at 0x120da4be0>"
      ]
     },
     "metadata": {},
     "output_type": "display_data"
    }
   ],
   "source": [
    "plt.imshow(X_test[1001].reshape((32,32)))"
   ]
  },
  {
   "cell_type": "code",
   "execution_count": 38,
   "metadata": {
    "collapsed": true
   },
   "outputs": [],
   "source": [
    "#output to submit file\n",
    "submissions = pd.DataFrame({'ImageId': np.arange(1 , 1 + test.shape[0]), 'Label': pred.astype(int)})\n",
    "submissions.to_csv('./keras.csv', index=False)\n",
    "#0.98714"
   ]
  },
  {
   "cell_type": "code",
   "execution_count": null,
   "metadata": {
    "collapsed": true
   },
   "outputs": [],
   "source": []
  }
 ],
 "metadata": {
  "kernelspec": {
   "display_name": "Python [default]",
   "language": "python",
   "name": "python3"
  },
  "language_info": {
   "codemirror_mode": {
    "name": "ipython",
    "version": 3
   },
   "file_extension": ".py",
   "mimetype": "text/x-python",
   "name": "python",
   "nbconvert_exporter": "python",
   "pygments_lexer": "ipython3",
   "version": "3.5.4"
  }
 },
 "nbformat": 4,
 "nbformat_minor": 2
}
